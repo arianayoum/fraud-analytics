{
 "cells": [
  {
   "cell_type": "markdown",
   "metadata": {},
   "source": [
    "This dataset is from kaggle. To run my code, first you must follow these steps: https://saturncloud.io/blog/how-to-import-kaggle-datasets-into-jupyter-notebook/"
   ]
  },
  {
   "cell_type": "markdown",
   "metadata": {},
   "source": [
    "## My Data Plan\n",
    "\n",
    "- Inspect data\n",
    "- Clean data\n",
    "- Add variables of interest \n",
    "- Visualize the three indicators of interest \n",
    "- Identify the accounts with anomalies\n",
    "- Estimate fraud loss\n",
    "- Conduct a cost-benefit analysis\n",
    "- Recommend a decision threshold"
   ]
  },
  {
   "cell_type": "markdown",
   "metadata": {},
   "source": []
  },
  {
   "cell_type": "code",
   "execution_count": 1,
   "metadata": {},
   "outputs": [
    {
     "name": "stdout",
     "output_type": "stream",
     "text": [
      "Collecting kaggle\n",
      "  Downloading kaggle-1.7.4.5-py3-none-any.whl (181 kB)\n",
      "\u001b[K     |████████████████████████████████| 181 kB 2.9 MB/s eta 0:00:01\n",
      "\u001b[?25hCollecting python-slugify\n",
      "  Downloading python_slugify-8.0.4-py2.py3-none-any.whl (10 kB)\n",
      "Requirement already satisfied: urllib3>=1.15.1 in /Users/arianayoum/opt/anaconda3/lib/python3.8/site-packages (from kaggle) (1.26.4)\n",
      "Requirement already satisfied: tqdm in /Users/arianayoum/opt/anaconda3/lib/python3.8/site-packages (from kaggle) (4.59.0)\n",
      "Requirement already satisfied: setuptools>=21.0.0 in /Users/arianayoum/opt/anaconda3/lib/python3.8/site-packages (from kaggle) (52.0.0.post20210125)\n",
      "Requirement already satisfied: requests in /Users/arianayoum/opt/anaconda3/lib/python3.8/site-packages (from kaggle) (2.25.1)\n",
      "Requirement already satisfied: certifi>=14.05.14 in /Users/arianayoum/opt/anaconda3/lib/python3.8/site-packages (from kaggle) (2020.12.5)\n",
      "Collecting text-unidecode\n",
      "  Downloading text_unidecode-1.3-py2.py3-none-any.whl (78 kB)\n",
      "\u001b[K     |████████████████████████████████| 78 kB 7.0 MB/s  eta 0:00:01\n",
      "\u001b[?25hRequirement already satisfied: python-dateutil>=2.5.3 in /Users/arianayoum/opt/anaconda3/lib/python3.8/site-packages (from kaggle) (2.8.1)\n",
      "Requirement already satisfied: six>=1.10 in /Users/arianayoum/opt/anaconda3/lib/python3.8/site-packages (from kaggle) (1.15.0)\n",
      "Requirement already satisfied: webencodings in /Users/arianayoum/opt/anaconda3/lib/python3.8/site-packages (from kaggle) (0.5.1)\n",
      "Collecting protobuf\n",
      "  Downloading protobuf-5.29.5-cp38-abi3-macosx_10_9_universal2.whl (418 kB)\n",
      "\u001b[K     |████████████████████████████████| 418 kB 6.6 MB/s eta 0:00:01\n",
      "\u001b[?25hRequirement already satisfied: bleach in /Users/arianayoum/opt/anaconda3/lib/python3.8/site-packages (from kaggle) (3.3.0)\n",
      "Collecting charset-normalizer\n",
      "  Downloading charset_normalizer-3.4.2-cp38-cp38-macosx_10_9_universal2.whl (198 kB)\n",
      "\u001b[K     |████████████████████████████████| 198 kB 9.6 MB/s eta 0:00:01\n",
      "\u001b[?25hRequirement already satisfied: idna in /Users/arianayoum/opt/anaconda3/lib/python3.8/site-packages (from kaggle) (2.10)\n",
      "Requirement already satisfied: packaging in /Users/arianayoum/opt/anaconda3/lib/python3.8/site-packages (from bleach->kaggle) (20.9)\n",
      "Requirement already satisfied: pyparsing>=2.0.2 in /Users/arianayoum/opt/anaconda3/lib/python3.8/site-packages (from packaging->bleach->kaggle) (2.4.7)\n",
      "Requirement already satisfied: chardet<5,>=3.0.2 in /Users/arianayoum/opt/anaconda3/lib/python3.8/site-packages (from requests->kaggle) (4.0.0)\n",
      "Installing collected packages: text-unidecode, python-slugify, protobuf, charset-normalizer, kaggle\n",
      "Successfully installed charset-normalizer-3.4.2 kaggle-1.7.4.5 protobuf-5.29.5 python-slugify-8.0.4 text-unidecode-1.3\n",
      "Note: you may need to restart the kernel to use updated packages.\n"
     ]
    }
   ],
   "source": [
    "pip install kaggle"
   ]
  },
  {
   "cell_type": "code",
   "execution_count": 5,
   "metadata": {},
   "outputs": [
    {
     "name": "stdout",
     "output_type": "stream",
     "text": [
      "Dataset URL: https://www.kaggle.com/datasets/valakhorasani/bank-transaction-dataset-for-fraud-detection\n",
      "License(s): apache-2.0\n",
      "Downloading bank-transaction-dataset-for-fraud-detection.zip to /Users/arianayoum/Desktop/CV/Apps/Data Science/Projects\n",
      "  0%|                                                | 0.00/102k [00:00<?, ?B/s]\n",
      "100%|█████████████████████████████████████████| 102k/102k [00:00<00:00, 135MB/s]\n"
     ]
    }
   ],
   "source": [
    "!kaggle datasets download -d valakhorasani/bank-transaction-dataset-for-fraud-detection"
   ]
  },
  {
   "cell_type": "code",
   "execution_count": 6,
   "metadata": {},
   "outputs": [
    {
     "name": "stdout",
     "output_type": "stream",
     "text": [
      "Archive:  bank-transaction-dataset-for-fraud-detection.zip\n",
      "  inflating: bank_transactions_data_2.csv  \n"
     ]
    }
   ],
   "source": [
    "!unzip bank-transaction-dataset-for-fraud-detection.zip"
   ]
  },
  {
   "cell_type": "code",
   "execution_count": 7,
   "metadata": {},
   "outputs": [
    {
     "name": "stdout",
     "output_type": "stream",
     "text": [
      "  TransactionID AccountID  TransactionAmount      TransactionDate  \\\n",
      "0      TX000001   AC00128              14.09  2023-04-11 16:29:14   \n",
      "1      TX000002   AC00455             376.24  2023-06-27 16:44:19   \n",
      "2      TX000003   AC00019             126.29  2023-07-10 18:16:08   \n",
      "3      TX000004   AC00070             184.50  2023-05-05 16:32:11   \n",
      "4      TX000005   AC00411              13.45  2023-10-16 17:51:24   \n",
      "\n",
      "  TransactionType   Location DeviceID      IP Address MerchantID Channel  \\\n",
      "0           Debit  San Diego  D000380  162.198.218.92       M015     ATM   \n",
      "1           Debit    Houston  D000051     13.149.61.4       M052     ATM   \n",
      "2           Debit       Mesa  D000235  215.97.143.157       M009  Online   \n",
      "3           Debit    Raleigh  D000187  200.13.225.150       M002  Online   \n",
      "4          Credit    Atlanta  D000308    65.164.3.100       M091  Online   \n",
      "\n",
      "   CustomerAge CustomerOccupation  TransactionDuration  LoginAttempts  \\\n",
      "0           70             Doctor                   81              1   \n",
      "1           68             Doctor                  141              1   \n",
      "2           19            Student                   56              1   \n",
      "3           26            Student                   25              1   \n",
      "4           26            Student                  198              1   \n",
      "\n",
      "   AccountBalance PreviousTransactionDate  \n",
      "0         5112.21     2024-11-04 08:08:08  \n",
      "1        13758.91     2024-11-04 08:09:35  \n",
      "2         1122.35     2024-11-04 08:07:04  \n",
      "3         8569.06     2024-11-04 08:09:06  \n",
      "4         7429.40     2024-11-04 08:06:39  \n"
     ]
    }
   ],
   "source": [
    "import pandas as pd\n",
    "data = pd.read_csv('bank_transactions_data_2.csv')\n",
    "print(data.head())"
   ]
  },
  {
   "cell_type": "markdown",
   "metadata": {},
   "source": [
    "## Basic Data Cleaning Steps\n",
    "\n",
    "- Check for missing values\n",
    "- Check for duplicates\n",
    "- Check for data consistency/logic\n",
    "- Check data types\n",
    "- Clean any categorical fields (e.g. trim spaces)\n",
    "- Check distributions and outliers"
   ]
  },
  {
   "cell_type": "code",
   "execution_count": 23,
   "metadata": {},
   "outputs": [
    {
     "data": {
      "text/plain": [
       "0"
      ]
     },
     "execution_count": 23,
     "metadata": {},
     "output_type": "execute_result"
    }
   ],
   "source": [
    "# Check date time objects\n",
    "pd.to_datetime(data['TransactionDate'], errors='coerce').isna().sum()\n",
    "pd.to_datetime(data['PreviousTransactionDate'], errors='coerce').isna().sum()"
   ]
  },
  {
   "cell_type": "code",
   "execution_count": 24,
   "metadata": {},
   "outputs": [
    {
     "name": "stdout",
     "output_type": "stream",
     "text": [
      "TransactionID              0\n",
      "AccountID                  0\n",
      "TransactionAmount          0\n",
      "TransactionDate            0\n",
      "TransactionType            0\n",
      "Location                   0\n",
      "DeviceID                   0\n",
      "IP Address                 0\n",
      "MerchantID                 0\n",
      "Channel                    0\n",
      "CustomerAge                0\n",
      "CustomerOccupation         0\n",
      "TransactionDuration        0\n",
      "LoginAttempts              0\n",
      "AccountBalance             0\n",
      "PreviousTransactionDate    0\n",
      "dtype: int64\n"
     ]
    }
   ],
   "source": [
    "# Check missing values\n",
    "print(data.isnull().sum())"
   ]
  },
  {
   "cell_type": "code",
   "execution_count": 25,
   "metadata": {},
   "outputs": [
    {
     "name": "stdout",
     "output_type": "stream",
     "text": [
      "Duplicate rows: 0\n"
     ]
    }
   ],
   "source": [
    "# Check duplicates\n",
    "print(\"Duplicate rows:\", data.duplicated().sum())"
   ]
  },
  {
   "cell_type": "code",
   "execution_count": 26,
   "metadata": {},
   "outputs": [
    {
     "name": "stdout",
     "output_type": "stream",
     "text": [
      "Invalid date order: 2512\n"
     ]
    }
   ],
   "source": [
    "# Check logic of transaction dates \n",
    "print(\"Invalid date order:\", (data['TransactionDate'] < data['PreviousTransactionDate']).sum())"
   ]
  },
  {
   "cell_type": "markdown",
   "metadata": {},
   "source": [
    "Looks like we can't rely on the column Previous Transaction Date - all the entries are the same, probably due to an error so this column isn't really meaningful to us anymore."
   ]
  },
  {
   "cell_type": "code",
   "execution_count": 27,
   "metadata": {},
   "outputs": [],
   "source": [
    "data_cleaned = data.drop('PreviousTransactionDate', axis=1)"
   ]
  },
  {
   "cell_type": "code",
   "execution_count": 28,
   "metadata": {},
   "outputs": [
    {
     "name": "stdout",
     "output_type": "stream",
     "text": [
      "Invalid transaction amounts: 0\n"
     ]
    }
   ],
   "source": [
    "# Check invalid transaction amounts (negatives or zeroes)\n",
    "print(\"Invalid transaction amounts:\", (data_cleaned['TransactionAmount'] <= 0).sum())"
   ]
  },
  {
   "cell_type": "markdown",
   "metadata": {},
   "source": [
    "I think the data is relatively clean now so I'm going to now add in some variables I'm interested in. \n",
    "But before I do that, I'm going to explore the data a bit because I'm not too familiar with fraud analytics."
   ]
  },
  {
   "cell_type": "code",
   "execution_count": 29,
   "metadata": {},
   "outputs": [
    {
     "name": "stdout",
     "output_type": "stream",
     "text": [
      "AccountID\n",
      "AC00001    2\n",
      "AC00002    7\n",
      "AC00003    5\n",
      "AC00004    9\n",
      "AC00005    9\n",
      "          ..\n",
      "AC00496    3\n",
      "AC00497    6\n",
      "AC00498    8\n",
      "AC00499    7\n",
      "AC00500    4\n",
      "Length: 495, dtype: int64\n"
     ]
    }
   ],
   "source": [
    "# I lost a lot of data with the missing PreviousTransactionDate data so now I'm curious if there's multiple transaction rows per account in this dataset.\n",
    "transactions_per_account = data_cleaned.groupby('AccountID').size()\n",
    "print(transactions_per_account)"
   ]
  },
  {
   "cell_type": "markdown",
   "metadata": {},
   "source": [
    "# Adding in Some Variables of Interest"
   ]
  },
  {
   "cell_type": "code",
   "execution_count": 41,
   "metadata": {},
   "outputs": [
    {
     "name": "stdout",
     "output_type": "stream",
     "text": [
      "  TransactionID AccountID  TransactionAmount      TransactionDate  \\\n",
      "0      TX000001   AC00128              14.09  2023-04-11 16:29:14   \n",
      "1      TX000002   AC00455             376.24  2023-06-27 16:44:19   \n",
      "2      TX000003   AC00019             126.29  2023-07-10 18:16:08   \n",
      "3      TX000004   AC00070             184.50  2023-05-05 16:32:11   \n",
      "4      TX000005   AC00411              13.45  2023-10-16 17:51:24   \n",
      "\n",
      "  TransactionType   Location DeviceID      IP Address MerchantID Channel  \\\n",
      "0           Debit  San Diego  D000380  162.198.218.92       M015     ATM   \n",
      "1           Debit    Houston  D000051     13.149.61.4       M052     ATM   \n",
      "2           Debit       Mesa  D000235  215.97.143.157       M009  Online   \n",
      "3           Debit    Raleigh  D000187  200.13.225.150       M002  Online   \n",
      "4          Credit    Atlanta  D000308    65.164.3.100       M091  Online   \n",
      "\n",
      "   CustomerAge CustomerOccupation  TransactionDuration  LoginAttempts  \\\n",
      "0           70             Doctor                   81              1   \n",
      "1           68             Doctor                  141              1   \n",
      "2           19            Student                   56              1   \n",
      "3           26            Student                   25              1   \n",
      "4           26            Student                  198              1   \n",
      "\n",
      "   AccountBalance  TransAmountToBalanceRatio  IsHighValueTransaction  \n",
      "0         5112.21                   0.002756                       0  \n",
      "1        13758.91                   0.027345                       0  \n",
      "2         1122.35                   0.112523                       0  \n",
      "3         8569.06                   0.021531                       0  \n",
      "4         7429.40                   0.001810                       0  \n"
     ]
    }
   ],
   "source": [
    "# Flagging high value transactions\n",
    "threshold = data_cleaned['TransactionAmount'].quantile(0.95)\n",
    "data_cleaned['IsHighValueTransaction'] = (data_cleaned['TransactionAmount'] > threshold).astype(int)\n",
    "print(data_cleaned.head())"
   ]
  },
  {
   "cell_type": "code",
   "execution_count": 42,
   "metadata": {},
   "outputs": [
    {
     "name": "stdout",
     "output_type": "stream",
     "text": [
      "  TransactionID AccountID  TransactionAmount      TransactionDate  \\\n",
      "0      TX000001   AC00128              14.09  2023-04-11 16:29:14   \n",
      "1      TX000002   AC00455             376.24  2023-06-27 16:44:19   \n",
      "2      TX000003   AC00019             126.29  2023-07-10 18:16:08   \n",
      "3      TX000004   AC00070             184.50  2023-05-05 16:32:11   \n",
      "4      TX000005   AC00411              13.45  2023-10-16 17:51:24   \n",
      "\n",
      "  TransactionType   Location DeviceID      IP Address MerchantID Channel  \\\n",
      "0           Debit  San Diego  D000380  162.198.218.92       M015     ATM   \n",
      "1           Debit    Houston  D000051     13.149.61.4       M052     ATM   \n",
      "2           Debit       Mesa  D000235  215.97.143.157       M009  Online   \n",
      "3           Debit    Raleigh  D000187  200.13.225.150       M002  Online   \n",
      "4          Credit    Atlanta  D000308    65.164.3.100       M091  Online   \n",
      "\n",
      "   CustomerAge CustomerOccupation  TransactionDuration  LoginAttempts  \\\n",
      "0           70             Doctor                   81              1   \n",
      "1           68             Doctor                  141              1   \n",
      "2           19            Student                   56              1   \n",
      "3           26            Student                   25              1   \n",
      "4           26            Student                  198              1   \n",
      "\n",
      "   AccountBalance  TransAmountToBalanceRatio  IsHighValueTransaction  \n",
      "0         5112.21                   0.002756                       0  \n",
      "1        13758.91                   0.027345                       0  \n",
      "2         1122.35                   0.112523                       0  \n",
      "3         8569.06                   0.021531                       0  \n",
      "4         7429.40                   0.001810                       0  \n"
     ]
    }
   ],
   "source": [
    "# Var to see how much the transaction is compared to the balance\n",
    "data_cleaned['TransAmountToBalanceRatio'] = data_cleaned['TransactionAmount'] / data_cleaned['AccountBalance']\n",
    "print(data_cleaned.head())"
   ]
  },
  {
   "cell_type": "code",
   "execution_count": 45,
   "metadata": {},
   "outputs": [
    {
     "name": "stdout",
     "output_type": "stream",
     "text": [
      "  TransactionID AccountID  TransactionAmount      TransactionDate  \\\n",
      "0      TX000001   AC00128              14.09  2023-04-11 16:29:14   \n",
      "1      TX000002   AC00455             376.24  2023-06-27 16:44:19   \n",
      "2      TX000003   AC00019             126.29  2023-07-10 18:16:08   \n",
      "3      TX000004   AC00070             184.50  2023-05-05 16:32:11   \n",
      "4      TX000005   AC00411              13.45  2023-10-16 17:51:24   \n",
      "\n",
      "  TransactionType   Location DeviceID      IP Address MerchantID Channel  \\\n",
      "0           Debit  San Diego  D000380  162.198.218.92       M015     ATM   \n",
      "1           Debit    Houston  D000051     13.149.61.4       M052     ATM   \n",
      "2           Debit       Mesa  D000235  215.97.143.157       M009  Online   \n",
      "3           Debit    Raleigh  D000187  200.13.225.150       M002  Online   \n",
      "4          Credit    Atlanta  D000308    65.164.3.100       M091  Online   \n",
      "\n",
      "   CustomerAge CustomerOccupation  TransactionDuration  LoginAttempts  \\\n",
      "0           70             Doctor                   81              1   \n",
      "1           68             Doctor                  141              1   \n",
      "2           19            Student                   56              1   \n",
      "3           26            Student                   25              1   \n",
      "4           26            Student                  198              1   \n",
      "\n",
      "   AccountBalance  TransAmountToBalanceRatio  IsHighValueTransaction  \\\n",
      "0         5112.21                   0.002756                       0   \n",
      "1        13758.91                   0.027345                       0   \n",
      "2         1122.35                   0.112523                       0   \n",
      "3         8569.06                   0.021531                       0   \n",
      "4         7429.40                   0.001810                       0   \n",
      "\n",
      "   IsHighValueTransaction_2  \n",
      "0                         0  \n",
      "1                         0  \n",
      "2                         0  \n",
      "3                         0  \n",
      "4                         0  \n"
     ]
    }
   ],
   "source": [
    "# Flagging balance ratios that are too close to 0\n",
    "threshold = data_cleaned['TransAmountToBalanceRatio'].quantile(0.95)\n",
    "data_cleaned['IsHighValueTransaction_2'] = (data_cleaned['TransAmountToBalanceRatio'] > threshold).astype(int)\n",
    "print(data_cleaned.head())"
   ]
  },
  {
   "cell_type": "code",
   "execution_count": 46,
   "metadata": {},
   "outputs": [],
   "source": [
    "data_cleaned.to_csv('data_cleaned.csv', index=False)"
   ]
  },
  {
   "cell_type": "markdown",
   "metadata": {},
   "source": []
  }
 ],
 "metadata": {
  "kernelspec": {
   "display_name": "Python 3.8.8 ('base')",
   "language": "python",
   "name": "python3"
  },
  "language_info": {
   "codemirror_mode": {
    "name": "ipython",
    "version": 3
   },
   "file_extension": ".py",
   "mimetype": "text/x-python",
   "name": "python",
   "nbconvert_exporter": "python",
   "pygments_lexer": "ipython3",
   "version": "3.8.8"
  },
  "orig_nbformat": 4,
  "vscode": {
   "interpreter": {
    "hash": "64c476b0ffb6be8aebcf614aa7ea19ff059a30a1cd04a5f9155018fd4bb0b427"
   }
  }
 },
 "nbformat": 4,
 "nbformat_minor": 2
}
